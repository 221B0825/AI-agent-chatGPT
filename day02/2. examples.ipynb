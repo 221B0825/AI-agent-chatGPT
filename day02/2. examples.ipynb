{
 "cells": [
  {
   "cell_type": "code",
   "execution_count": 2,
   "metadata": {},
   "outputs": [
    {
     "name": "stdout",
     "output_type": "stream",
     "text": [
      "test\n"
     ]
    }
   ],
   "source": [
    "print(\"test\")"
   ]
  },
  {
   "cell_type": "code",
   "execution_count": 3,
   "metadata": {},
   "outputs": [
    {
     "name": "stdout",
     "output_type": "stream",
     "text": [
      "아래는 HTML, CSS, JavaScript를 포함한 간단한 웹사이트의 예시입니다. 이 웹사이트는 \"Hello, World!\" 메시지를 3초 후에 화면에 표시합니다. \n",
      "\n",
      "```html\n",
      "<!DOCTYPE html>\n",
      "<html lang=\"ko\">\n",
      "<head>\n",
      "    <meta charset=\"UTF-8\">\n",
      "    <meta name=\"viewport\" content=\"width=device-width, initial-scale=1.0\">\n",
      "    <title>간단한 웹사이트</title>\n",
      "    <style>\n",
      "        body {\n",
      "            font-family: Arial, sans-serif;\n",
      "            background-color: #f0f0f0;\n",
      "            color: #333;\n",
      "            text-align: center;\n",
      "            padding: 50px;\n",
      "        }\n",
      "        h1 {\n",
      "            font-size: 2.5em;\n",
      "            margin-bottom: 20px;\n",
      "        }\n",
      "        #message {\n",
      "            display: none;\n",
      "            font-size: 1.5em;\n",
      "            color: #007BFF;\n",
      "        }\n",
      "        button {\n",
      "            padding: 10px 20px;\n",
      "            font-size: 1em;\n",
      "            cursor: pointer;\n",
      "            background-color: #007BFF;\n",
      "            color: white;\n",
      "            border: none;\n",
      "            border-radius: 5px;\n",
      "            transition: background-color 0.3s;\n",
      "        }\n",
      "        button:hover {\n",
      "            background-color: #0056b3;\n",
      "        }\n",
      "    </style>\n",
      "</head>\n",
      "<body>\n",
      "    <h1>환영합니다!</h1>\n",
      "    <p>버튼을 클릭하면 메시지가 나타납니다.</p>\n",
      "    <button id=\"showMessageButton\">메시지 보기</button>\n",
      "    <div id=\"message\">Hello, World!</div>\n",
      "\n",
      "    <script>\n",
      "        document.getElementById('showMessageButton').addEventListener('click', function() {\n",
      "            // 3초 후에 메시지를 표시합니다.\n",
      "            setTimeout(function() {\n",
      "                document.getElementById('message').style.display = 'block';\n",
      "            }, 3000);\n",
      "        });\n",
      "    </script>\n",
      "</body>\n",
      "</html>\n",
      "```\n",
      "\n",
      "### 설명:\n",
      "1. **HTML**: 기본적인 구조를 설정하고, 버튼과 메시지를 포함합니다.\n",
      "2. **CSS**: 페이지의 스타일을 정의합니다. 배경색, 글꼴, 버튼 스타일 등을 설정합니다.\n",
      "3. **JavaScript**: 버튼 클릭 시 `setTimeout()` 메소드를 사용하여 3초 후에 메시지를 표시합니다.\n",
      "\n",
      "이 코드를 HTML 파일로 저장하고 웹 브라우저에서 열면, 버튼을 클릭한 후 3초 후에 \"Hello, World!\" 메시지가 나타나는 것을 확인할 수 있습니다.\n"
     ]
    }
   ],
   "source": [
    "import os\n",
    "import openai\n",
    "from dotenv import load_dotenv\n",
    "\n",
    "# load .env\n",
    "load_dotenv()\n",
    "\n",
    "openai.api_key = os.getenv(\"OPENAI_API_KEY\")\n",
    "\n",
    "response = openai.chat.completions.create(\n",
    "    model=\"gpt-4o-mini\",\n",
    "    messages=[\n",
    "        {\n",
    "            \"role\": \"user\",\n",
    "            \"content\": \"한 페이지 분량의 웹사이트를 작성하시오. 이 페이지에는 HTML, CSS, javascript가 포함되어야 하며, javascript의 setTimeout() 메소드를 사용하여야 합니다.\"\n",
    "        }\n",
    "    ],\n",
    "    temperature=0,\n",
    "    max_tokens=2048,\n",
    "    top_p=1,\n",
    "    frequency_penalty=0,\n",
    "    presence_penalty=0\n",
    "\n",
    ")\n",
    "\n",
    "print(response.choices[0].message.content)"
   ]
  }
 ],
 "metadata": {
  "kernelspec": {
   "display_name": ".venv",
   "language": "python",
   "name": "python3"
  },
  "language_info": {
   "codemirror_mode": {
    "name": "ipython",
    "version": 3
   },
   "file_extension": ".py",
   "mimetype": "text/x-python",
   "name": "python",
   "nbconvert_exporter": "python",
   "pygments_lexer": "ipython3",
   "version": "3.12.3"
  }
 },
 "nbformat": 4,
 "nbformat_minor": 2
}
