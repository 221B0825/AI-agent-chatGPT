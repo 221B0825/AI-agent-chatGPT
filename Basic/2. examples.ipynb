{
 "cells": [
  {
   "cell_type": "code",
   "execution_count": 2,
   "metadata": {},
   "outputs": [
    {
     "name": "stdout",
     "output_type": "stream",
     "text": [
      "test\n"
     ]
    }
   ],
   "source": [
    "print(\"test\")"
   ]
  },
  {
   "cell_type": "code",
   "execution_count": null,
   "metadata": {},
   "outputs": [
    {
     "name": "stdout",
     "output_type": "stream",
     "text": [
      "아래는 HTML, CSS, JavaScript를 포함한 간단한 웹사이트 예제입니다. 이 웹사이트는 버튼을 클릭하면 텍스트가 일정 시간 후에 변경되는 기능을 포함하고 있습니다. `setTimeout()` 메소드를 사용하여 텍스트 변경을 구현했습니다.\n",
      "\n",
      "```html\n",
      "<!DOCTYPE html>\n",
      "<html lang=\"ko\">\n",
      "<head>\n",
      "    <meta charset=\"UTF-8\">\n",
      "    <meta name=\"viewport\" content=\"width=device-width, initial-scale=1.0\">\n",
      "    <title>간단한 웹사이트</title>\n",
      "    <style>\n",
      "        body {\n",
      "            font-family: Arial, sans-serif;\n",
      "            background-color: #f0f0f0;\n",
      "            margin: 0;\n",
      "            padding: 20px;\n",
      "        }\n",
      "        h1 {\n",
      "            color: #333;\n",
      "        }\n",
      "        #message {\n",
      "            margin-top: 20px;\n",
      "            font-size: 1.5em;\n",
      "            color: #555;\n",
      "        }\n",
      "        button {\n",
      "            padding: 10px 20px;\n",
      "            font-size: 1em;\n",
      "            background-color: #007BFF;\n",
      "            color: white;\n",
      "            border: none;\n",
      "            border-radius: 5px;\n",
      "            cursor: pointer;\n",
      "        }\n",
      "        button:hover {\n",
      "            background-color: #0056b3;\n",
      "        }\n",
      "    </style>\n",
      "</head>\n",
      "<body>\n",
      "    <h1>환영합니다!</h1>\n",
      "    <p>버튼을 클릭하면 메시지가 변경됩니다.</p>\n",
      "    <button id=\"changeMessageButton\">메시지 변경</button>\n",
      "    <div id=\"message\">여기에 메시지가 표시됩니다.</div>\n",
      "\n",
      "    <script>\n",
      "        document.getElementById('changeMessageButton').addEventListener('click', function() {\n",
      "            const messageDiv = document.getElementById('message');\n",
      "            messageDiv.textContent = '메시지가 변경되었습니다! 잠시 후 원래 메시지로 돌아갑니다.';\n",
      "\n",
      "            // 3초 후에 원래 메시지로 돌아가기\n",
      "            setTimeout(function() {\n",
      "                messageDiv.textContent = '여기에 메시지가 표시됩니다.';\n",
      "            }, 3000);\n",
      "        });\n",
      "    </script>\n",
      "</body>\n",
      "</html>\n",
      "```\n",
      "\n",
      "### 설명:\n",
      "1. **HTML**: 기본적인 구조를 설정하고, 버튼과 메시지를 표시할 div를 추가했습니다.\n",
      "2. **CSS**: 페이지의 스타일을 설정하여 배경색, 글꼴, 버튼 스타일 등을 지정했습니다.\n",
      "3. **JavaScript**: 버튼 클릭 시 메시지를 변경하고, `setTimeout()`을 사용하여 3초 후에 원래 메시지로 돌아가도록 설정했습니다.\n",
      "\n",
      "이 코드를 복사하여 HTML 파일로 저장한 후 웹 브라우저에서 열면 작동하는 웹사이트를 확인할 수 있습니다.\n"
     ]
    }
   ],
   "source": [
    "import os\n",
    "import openai\n",
    "from dotenv import load_dotenv\n",
    "\n",
    "# load .env\n",
    "load_dotenv()\n",
    "\n",
    "openai.api_key = os.getenv(\"OPENAI_API_KEY\")\n",
    "\n",
    "response = openai.chat.completions.create(\n",
    "    model=\"gpt-4o-mini\",\n",
    "    messages=[\n",
    "        {\n",
    "            \"role\": \"user\",\n",
    "            \"content\": \"한 페이지 분량의 웹사이트를 작성하시오. 이 페이지에는 HTML, CSS, javascript가 포함되어야 하며, javascript의 setTimeout() 메소드를 사용하여야 합니다.\"\n",
    "        }\n",
    "    ],\n",
    "    temperature=0,\n",
    "    max_tokens=2048,\n",
    "    top_p=1,\n",
    "    frequency_penalty=0,\n",
    "    presence_penalty=0\n",
    "\n",
    ")\n",
    "\n",
    "print(response.choices[0].message.content)"
   ]
  }
 ],
 "metadata": {
  "kernelspec": {
   "display_name": "Python 3",
   "language": "python",
   "name": "python3"
  },
  "language_info": {
   "codemirror_mode": {
    "name": "ipython",
    "version": 3
   },
   "file_extension": ".py",
   "mimetype": "text/x-python",
   "name": "python",
   "nbconvert_exporter": "python",
   "pygments_lexer": "ipython3",
   "version": "3.10.12"
  }
 },
 "nbformat": 4,
 "nbformat_minor": 2
}
